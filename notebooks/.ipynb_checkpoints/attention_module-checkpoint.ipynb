{
 "cells": [
  {
   "cell_type": "code",
   "execution_count": 18,
   "metadata": {},
   "outputs": [],
   "source": [
    "%matplotlib inline\n",
    "%reload_ext autoreload\n",
    "%autoreload 2"
   ]
  },
  {
   "cell_type": "code",
   "execution_count": 28,
   "metadata": {},
   "outputs": [],
   "source": [
    "# export\n",
    "import os,sys,time,copy,math,numpy as np\n",
    "from IPython.core.debugger import set_trace\n",
    "import torch,torch.nn as nn,torch.nn.functional as F\n",
    "import matplotlib.pyplot as plt\n",
    "import seaborn as sns"
   ]
  },
  {
   "cell_type": "code",
   "execution_count": 3,
   "metadata": {},
   "outputs": [],
   "source": [
    "# export\n",
    "class EncoderDecoder(nn.Module):\n",
    "    '''\n",
    "    A standard encoder-decoder architecture...\n",
    "    '''\n",
    "    def __init__(self,encr,decr,src_emb,tgt_emb,gen):\n",
    "        super().__init__()\n",
    "        self.encr = encr;self.decr = decr; self.src_emb = src_emb\n",
    "        self.tgt_emb = tgt_emb; self.gen = gen\n",
    "    \n",
    "    def forward(self,src,tgt,src_mask,tgt_mask):\n",
    "        return self.decode(self.encode(src,src_mask),src_mask,tgt,tgt_mask)\n",
    "    \n",
    "    def encode(self,src,src_mask):\n",
    "        return self.encr(self.src_emb(src),src_mask)\n",
    "    \n",
    "    def decode(self,tgt,tgt_mask):\n",
    "        return self.decr(self.tgt_emb(tgt),tgt_mask)\n",
    "    "
   ]
  },
  {
   "cell_type": "code",
   "execution_count": 5,
   "metadata": {},
   "outputs": [],
   "source": [
    "# export\n",
    "class Generator(nn.Module):\n",
    "    \"\"\"\n",
    "    Defines standard linear+ softmax step\n",
    "    \"\"\"\n",
    "    def __init__(self,d_model,vocab):\n",
    "        super().__init__()\n",
    "        self.proj = nn.Linear(d_model,vocab)\n",
    "        \n",
    "    def forward(self,x):\n",
    "        return F.log_softmax(self.proj(x),dim=-1)"
   ]
  },
  {
   "cell_type": "code",
   "execution_count": 7,
   "metadata": {},
   "outputs": [],
   "source": [
    "# export\n",
    "def clones(module,N):\n",
    "    ''' Produces N identical modules '''\n",
    "    return nn.ModuleList([copy.deepcopy(module) for _ in range(N)])"
   ]
  },
  {
   "cell_type": "markdown",
   "metadata": {},
   "source": [
    "## Encoder"
   ]
  },
  {
   "cell_type": "code",
   "execution_count": null,
   "metadata": {},
   "outputs": [],
   "source": [
    "# export\n",
    "class Encoder(nn.Module):\n",
    "    ''' Core encoder is a stack of N layers '''\n",
    "    def __init__(self,layer,N):\n",
    "        super().__init__()\n",
    "        self.layers = clones(layer,N)\n",
    "        self.norm  = LayerNorm(layer.size)\n",
    "        \n",
    "    def forward(self,x,mask):\n",
    "        ''' Pass the input and mask through each layer in turn  '''\n",
    "        for layer in self.layers:\n",
    "            x = layer(x,mask)\n",
    "        return self.norm(x)\n",
    "        "
   ]
  },
  {
   "cell_type": "markdown",
   "metadata": {},
   "source": [
    "### Layer Norm"
   ]
  },
  {
   "cell_type": "code",
   "execution_count": 8,
   "metadata": {},
   "outputs": [],
   "source": [
    "# export\n",
    "class LayerNorm(nn.Module):\n",
    "    def __init__(self,features,eps=1e-6):\n",
    "        super().__init__()\n",
    "        self.a_2 = nn.Parameter(torch.ones(features))\n",
    "        self.b_2 = nn.Parameter(torch.zeros(features))        \n",
    "        self.eps = eps\n",
    "        \n",
    "    def forward(self,x):\n",
    "        mean = x.mean(-1,keepdim=True)\n",
    "        std = x.std(-1,keepdim=True)\n",
    "        return self.a_2*(x - mean)/(std + self.eps) + self.b_2"
   ]
  },
  {
   "cell_type": "code",
   "execution_count": 9,
   "metadata": {},
   "outputs": [],
   "source": [
    "# export\n",
    "class SubLayerConnection(nn.Module):\n",
    "    \"\"\" A sum of original + layer(input) followed by layer Norm\"\"\"\n",
    "    def __init__(self,size,p):\n",
    "        super().__init__()\n",
    "        self.norm = LayerNorm(size)\n",
    "        self.p = nn.Dropout(p)\n",
    "        \n",
    "    def forward(self,x,sublayer):\n",
    "        \"\"\" Apply residual connection to sublayer of same size\"\"\"\n",
    "        return x + self.p(sublayer(self.norm(x)))"
   ]
  },
  {
   "cell_type": "markdown",
   "metadata": {},
   "source": [
    "### basic encoder layer"
   ]
  },
  {
   "cell_type": "code",
   "execution_count": 11,
   "metadata": {},
   "outputs": [],
   "source": [
    "# export\n",
    "class BasicEncoderLayer(nn.Module):\n",
    "    \"\"\" Basic encoder layer is made of self.attentiona and feed forward layer \"\"\"\n",
    "    def __init__(self,sz,slf_att,ff,p):\n",
    "        super().__init__()\n",
    "        self.slf_att = slf_att; self.sz = sz; self.ff = ff;\n",
    "        self.sublayer = clones(SubLayerConnection(size,dropout),2)\n",
    "        \n",
    "    def forward(self,x):\n",
    "        x = self.sublayer[0](x,lambda x: self.slf_att(x,x,x,mask))\n",
    "        return self.sublayer[1](x,self.ff)"
   ]
  },
  {
   "cell_type": "markdown",
   "metadata": {},
   "source": [
    "## Decoder"
   ]
  },
  {
   "cell_type": "code",
   "execution_count": 13,
   "metadata": {},
   "outputs": [],
   "source": [
    "# export\n",
    "class Decoder(nn.Module):\n",
    "    ''' Basic N layer Decoder '''\n",
    "    def __init__(self,layer,N):\n",
    "        super().__init__()\n",
    "        self.layers = clones(layer,N)\n",
    "        self.norm = LayerNorm(layer.size)\n",
    "        \n",
    "    def forward(self,x,mem,src_msk,tgt_msk):\n",
    "        for layer in self.layers:\n",
    "            x = layer(x,mem,src_msk,tgt_msk)\n",
    "        return self.norm(x)"
   ]
  },
  {
   "cell_type": "code",
   "execution_count": 14,
   "metadata": {},
   "outputs": [],
   "source": [
    "# export\n",
    "class BasicDecoderLayer(nn.Module):\n",
    "    ''' Basic N layer Decoder '''\n",
    "    def __init__(self,sz,slf_att,src_att,ff,p):\n",
    "        super().__init__()\n",
    "        self.slf_att = slf_att; self.src_att = src_att; self.ff = ff;\n",
    "        self.sublayer  = clones(SubLayerConnection(sz,p), 3)\n",
    "        \n",
    "    def forward(self,x,mem,src_msk,tgt_msk):\n",
    "        x = self.sublayer[0](x, lambda x: self.slf_att(x,x,x,tgt_msk))\n",
    "        x = self.sublayer[1](x , lambda x: self.src_att(x,x,x,src_msk))\n",
    "        return self.sublayer[2](x, lambda x:self.ff(x))"
   ]
  },
  {
   "cell_type": "code",
   "execution_count": 16,
   "metadata": {},
   "outputs": [],
   "source": [
    "# export\n",
    "def future_msk(sz):\n",
    "    \"\"\" Mask out future positions. \"\"\"\n",
    "    att_shp = (1,sz,sz)\n",
    "    future_msk = np.triu(np.ones(att_shp),k=1).astype('uint8')\n",
    "    return torch.from_numpy(future_msk) ==0"
   ]
  },
  {
   "cell_type": "code",
   "execution_count": 27,
   "metadata": {},
   "outputs": [
    {
     "data": {
      "text/plain": [
       "<matplotlib.image.AxesImage at 0x7fb3390b4a90>"
      ]
     },
     "execution_count": 27,
     "metadata": {},
     "output_type": "execute_result"
    },
    {
     "data": {
      "image/png": "[encoded data removed]",
      "text/plain": [
       "<Figure size 432x288 with 1 Axes>"
      ]
     },
     "metadata": {
      "needs_background": "light"
     },
     "output_type": "display_data"
    }
   ],
   "source": [
    "plt.imshow(future_msk(4)[0])"
   ]
  },
  {
   "cell_type": "markdown",
   "metadata": {},
   "source": [
    "## Attention Layer"
   ]
  },
  {
   "cell_type": "code",
   "execution_count": 29,
   "metadata": {},
   "outputs": [],
   "source": [
    "# export\n",
    "def attention(q,k,v,msk=None,p=None):\n",
    "    \"\"\" Compute 'Scaled dot product attention' \"\"\"\n",
    "    d_k = q.size(-1)\n",
    "    scores = torch.matmul(q,k.transpose(-2,-1))/math.sqrt(d_k)\n",
    "    if msk is not None:\n",
    "        scores = scores.masked_fill(mask==0,-1e9)\n",
    "        p_att = F.softmax(scores,dim = -1)\n",
    "        if p is not None:\n",
    "            p_att = p(p_att)\n",
    "        return torch.matmul(p_att,v), p_att"
   ]
  },
  {
   "cell_type": "code",
   "execution_count": 34,
   "metadata": {},
   "outputs": [
    {
     "name": "stdout",
     "output_type": "stream",
     "text": [
      "Converted attention_module.ipynb to nb_attention.py\r\n"
     ]
    }
   ],
   "source": [
    "! ../notebook2script.py ./attention_module.ipynb"
   ]
  },
  {
   "cell_type": "code",
   "execution_count": null,
   "metadata": {},
   "outputs": [],
   "source": []
  }
 ],
 "metadata": {
  "kernelspec": {
   "display_name": "Python [conda env:pyfast]",
   "language": "python",
   "name": "conda-env-pyfast-py"
  },
  "language_info": {
   "codemirror_mode": {
    "name": "ipython",
    "version": 3
   },
   "file_extension": ".py",
   "mimetype": "text/x-python",
   "name": "python",
   "nbconvert_exporter": "python",
   "pygments_lexer": "ipython3",
   "version": "3.7.1"
  }
 },
 "nbformat": 4,
 "nbformat_minor": 2
}
