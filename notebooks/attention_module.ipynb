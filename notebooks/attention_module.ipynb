{
 "cells": [
  {
   "cell_type": "code",
   "execution_count": 18,
   "metadata": {},
   "outputs": [],
   "source": [
    "%matplotlib inline\n",
    "%reload_ext autoreload\n",
    "%autoreload 2"
   ]
  },
  {
   "cell_type": "code",
   "execution_count": 28,
   "metadata": {},
   "outputs": [],
   "source": [
    "# export\n",
    "import os,sys,time,copy,math,numpy as np\n",
    "from IPython.core.debugger import set_trace\n",
    "import torch,torch.nn as nn,torch.nn.functional as F\n",
    "import matplotlib.pyplot as plt\n",
    "import seaborn as sns"
   ]
  },
  {
   "cell_type": "code",
   "execution_count": 3,
   "metadata": {},
   "outputs": [],
   "source": [
    "# export\n",
    "class EncoderDecoder(nn.Module):\n",
    "    '''\n",
    "    A standard encoder-decoder architecture...\n",
    "    '''\n",
    "    def __init__(self,encr,decr,src_emb,tgt_emb,gen):\n",
    "        super().__init__()\n",
    "        self.encr = encr;self.decr = decr; self.src_emb = src_emb\n",
    "        self.tgt_emb = tgt_emb; self.gen = gen\n",
    "    \n",
    "    def forward(self,src,tgt,src_mask,tgt_mask):\n",
    "        return self.decode(self.encode(src,src_mask),src_mask,tgt,tgt_mask)\n",
    "    \n",
    "    def encode(self,src,src_mask):\n",
    "        return self.encr(self.src_emb(src),src_mask)\n",
    "    \n",
    "    def decode(self,tgt,tgt_mask):\n",
    "        return self.decr(self.tgt_emb(tgt),tgt_mask)\n",
    "    "
   ]
  },
  {
   "cell_type": "code",
   "execution_count": 5,
   "metadata": {},
   "outputs": [],
   "source": [
    "# export\n",
    "class Generator(nn.Module):\n",
    "    \"\"\"\n",
    "    Defines standard linear+ softmax step\n",
    "    \"\"\"\n",
    "    def __init__(self,d_model,vocab):\n",
    "        super().__init__()\n",
    "        self.proj = nn.Linear(d_model,vocab)\n",
    "        \n",
    "    def forward(self,x):\n",
    "        return F.log_softmax(self.proj(x),dim=-1)"
   ]
  },
  {
   "cell_type": "code",
   "execution_count": 7,
   "metadata": {},
   "outputs": [],
   "source": [
    "# export\n",
    "def clones(module,N):\n",
    "    ''' Produces N identical modules '''\n",
    "    return nn.ModuleList([copy.deepcopy(module) for _ in range(N)])"
   ]
  },
  {
   "cell_type": "markdown",
   "metadata": {},
   "source": [
    "## Encoder"
   ]
  },
  {
   "cell_type": "code",
   "execution_count": null,
   "metadata": {},
   "outputs": [],
   "source": [
    "# export\n",
    "class Encoder(nn.Module):\n",
    "    ''' Core encoder is a stack of N layers '''\n",
    "    def __init__(self,layer,N):\n",
    "        super().__init__()\n",
    "        self.layers = clones(layer,N)\n",
    "        self.norm  = LayerNorm(layer.size)\n",
    "        \n",
    "    def forward(self,x,mask):\n",
    "        ''' Pass the input and mask through each layer in turn  '''\n",
    "        for layer in self.layers:\n",
    "            x = layer(x,mask)\n",
    "        return self.norm(x)\n",
    "        "
   ]
  },
  {
   "cell_type": "markdown",
   "metadata": {},
   "source": [
    "### Layer Norm"
   ]
  },
  {
   "cell_type": "code",
   "execution_count": 8,
   "metadata": {},
   "outputs": [],
   "source": [
    "# export\n",
    "class LayerNorm(nn.Module):\n",
    "    def __init__(self,features,eps=1e-6):\n",
    "        super().__init__()\n",
    "        self.a_2 = nn.Parameter(torch.ones(features))\n",
    "        self.b_2 = nn.Parameter(torch.zeros(features))        \n",
    "        self.eps = eps\n",
    "        \n",
    "    def forward(self,x):\n",
    "        mean = x.mean(-1,keepdim=True)\n",
    "        std = x.std(-1,keepdim=True)\n",
    "        return self.a_2*(x - mean)/(std + self.eps) + self.b_2"
   ]
  },
  {
   "cell_type": "code",
   "execution_count": 9,
   "metadata": {},
   "outputs": [],
   "source": [
    "# export\n",
    "class SubLayerConnection(nn.Module):\n",
    "    \"\"\" A sum of original + layer(input) followed by layer Norm\"\"\"\n",
    "    def __init__(self,size,p):\n",
    "        super().__init__()\n",
    "        self.norm = LayerNorm(size)\n",
    "        self.p = nn.Dropout(p)\n",
    "        \n",
    "    def forward(self,x,sublayer):\n",
    "        \"\"\" Apply residual connection to sublayer of same size\"\"\"\n",
    "        return x + self.p(sublayer(self.norm(x)))"
   ]
  },
  {
   "cell_type": "markdown",
   "metadata": {},
   "source": [
    "### basic encoder layer"
   ]
  },
  {
   "cell_type": "code",
   "execution_count": 11,
   "metadata": {},
   "outputs": [],
   "source": [
    "# export\n",
    "class BasicEncoderLayer(nn.Module):\n",
    "    \"\"\" Basic encoder layer is made of self.attentiona and feed forward layer \"\"\"\n",
    "    def __init__(self,sz,slf_att,ff,p):\n",
    "        super().__init__()\n",
    "        self.slf_att = slf_att; self.sz = sz; self.ff = ff;\n",
    "        self.sublayer = clones(SubLayerConnection(size,dropout),2)\n",
    "        \n",
    "    def forward(self,x):\n",
    "        x = self.sublayer[0](x,lambda x: self.slf_att(x,x,x,mask))\n",
    "        return self.sublayer[1](x,self.ff)"
   ]
  },
  {
   "cell_type": "markdown",
   "metadata": {},
   "source": [
    "## Decoder"
   ]
  },
  {
   "cell_type": "code",
   "execution_count": 13,
   "metadata": {},
   "outputs": [],
   "source": [
    "# export\n",
    "class Decoder(nn.Module):\n",
    "    ''' Basic N layer Decoder '''\n",
    "    def __init__(self,layer,N):\n",
    "        super().__init__()\n",
    "        self.layers = clones(layer,N)\n",
    "        self.norm = LayerNorm(layer.size)\n",
    "        \n",
    "    def forward(self,x,mem,src_msk,tgt_msk):\n",
    "        for layer in self.layers:\n",
    "            x = layer(x,mem,src_msk,tgt_msk)\n",
    "        return self.norm(x)"
   ]
  },
  {
   "cell_type": "code",
   "execution_count": 14,
   "metadata": {},
   "outputs": [],
   "source": [
    "# export\n",
    "class BasicDecoderLayer(nn.Module):\n",
    "    ''' Basic N layer Decoder '''\n",
    "    def __init__(self,sz,slf_att,src_att,ff,p):\n",
    "        super().__init__()\n",
    "        self.slf_att = slf_att; self.src_att = src_att; self.ff = ff;\n",
    "        self.sublayer  = clones(SubLayerConnection(sz,p), 3)\n",
    "        \n",
    "    def forward(self,x,mem,src_msk,tgt_msk):\n",
    "        x = self.sublayer[0](x, lambda x: self.slf_att(x,x,x,tgt_msk))\n",
    "        x = self.sublayer[1](x , lambda x: self.src_att(x,x,x,src_msk))\n",
    "        return self.sublayer[2](x, lambda x:self.ff(x))"
   ]
  },
  {
   "cell_type": "code",
   "execution_count": 16,
   "metadata": {},
   "outputs": [],
   "source": [
    "# export\n",
    "def future_msk(sz):\n",
    "    \"\"\" Mask out future positions. \"\"\"\n",
    "    att_shp = (1,sz,sz)\n",
    "    future_msk = np.triu(np.ones(att_shp),k=1).astype('uint8')\n",
    "    return torch.from_numpy(future_msk) ==0"
   ]
  },
  {
   "cell_type": "code",
   "execution_count": 27,
   "metadata": {},
   "outputs": [
    {
     "data": {
      "text/plain": [
       "<matplotlib.image.AxesImage at 0x7fb3390b4a90>"
      ]
     },
     "execution_count": 27,
     "metadata": {},
     "output_type": "execute_result"
    },
    {
     "data": {
      "image/png": "[encoded data removed]",
      "text/plain": [
       "<Figure size 432x288 with 1 Axes>"
      ]
     },
     "metadata": {
      "needs_background": "light"
     },
     "output_type": "display_data"
    }
   ],
   "source": [
    "plt.imshow(future_msk(4)[0])"
   ]
  },
  {
   "cell_type": "markdown",
   "metadata": {},
   "source": [
    "## Attention Layer"
   ]
  },
  {
   "cell_type": "code",
   "execution_count": 29,
   "metadata": {},
   "outputs": [],
   "source": [
    "# export\n",
    "def attention(q,k,v,msk=None,p=None):\n",
    "    \"\"\" Compute 'Scaled dot product attention' \"\"\"\n",
    "    d_k = q.size(-1)\n",
    "    scores = torch.matmul(q,k.transpose(-2,-1))/math.sqrt(d_k)\n",
    "    if msk is not None:\n",
    "        scores = scores.masked_fill(mask==0,-1e9)\n",
    "        p_att = F.softmax(scores,dim = -1)\n",
    "        if p is not None:\n",
    "            p_att = p(p_att)\n",
    "        return torch.matmul(p_att,v), p_att"
   ]
  },
  {
   "cell_type": "code",
   "execution_count": 90,
   "metadata": {},
   "outputs": [],
   "source": [
    "# export\n",
    "class MultiHeadAttention(nn.Module):\n",
    "    def __init__(self,h, d_model, p=0.1):\n",
    "        \" Take in model size and number of heads.\"\n",
    "        super().__init__()\n",
    "        assert d_model % h ==0\n",
    "        ## assumption d_v always equals d_k\n",
    "        self.d_k = d_model // h; self.h = h; self.att = None; self.p = nn.Dropout(p=p)\n",
    "        self.linears = clones(nn.Linear(d_model,d_model), 4)\n",
    "    \n",
    "    def forward(self,q,k,v,msk=None):\n",
    "        'Implements figure 2'\n",
    "        if msk is not None:\n",
    "            # same mask for all heads? - Why\n",
    "            msk = msk[:,None,...]\n",
    "        nbtch = q.size(0)\n",
    "        # 1. Do all the linear projections in batch  from d_model => h x d_k\n",
    "        q,k,v = [l(x).view(nbtch,-1,self.h,self.d_k).transpose(1,2)\n",
    "                for l,x in zip(self.linears,(q,k,v))]\n",
    "        # 2. Apply attention to all the projected vectors in batch.\n",
    "        x,self.att = attention(q,k,v,mask=mask,p=self.p)\n",
    "        # 3.'Concat' using a view and apply a final linear.\n",
    "        x = x.transpose(1,2).contigous().view(nbtch,-1,self.h*self.d_k)\n",
    "        return self.linears[-1](x)"
   ]
  },
  {
   "cell_type": "markdown",
   "metadata": {},
   "source": [
    "### feed forward"
   ]
  },
  {
   "cell_type": "code",
   "execution_count": 91,
   "metadata": {},
   "outputs": [],
   "source": [
    "# export\n",
    "class BasicFC(nn.Module):\n",
    "    ''' Base FC to apply at the end of each encoder-decoder block '''\n",
    "    def __init__(self,d_model,d_h,p=0.1):\n",
    "        super().__init__()\n",
    "        self.w_1 = nn.Linear(d_model,d_h)\n",
    "        self.w_2 = nn.Linear(d_h,d_model)\n",
    "        self.p = nn.Dropout(p)\n",
    "        \n",
    "    def forward(self,x):\n",
    "        return self.w_2(self.p(F.relu(self.w_1(x))))        \n",
    "        "
   ]
  },
  {
   "cell_type": "markdown",
   "metadata": {},
   "source": [
    "### Embeddings and softmax"
   ]
  },
  {
   "cell_type": "code",
   "execution_count": 92,
   "metadata": {},
   "outputs": [],
   "source": [
    "# export\n",
    "class Embeddings(nn.Module):\n",
    "    def __init__(self,d_model,vocab):\n",
    "        super().__init__()\n",
    "        self.lidx = nn.Embedding(d_model,vocab)\n",
    "        self.d_model = d_model\n",
    "        \n",
    "    def forward(self,x):\n",
    "        return self.lut(x)*math.sqrt(self.d_model)"
   ]
  },
  {
   "cell_type": "markdown",
   "metadata": {},
   "source": [
    "### Position Encoding"
   ]
  },
  {
   "cell_type": "code",
   "execution_count": 93,
   "metadata": {},
   "outputs": [],
   "source": [
    "# export\n",
    "class PositionalEncoding(nn.Module):\n",
    "    def __init__(self,d_model,p,max_len=5000):\n",
    "        super().__init__()\n",
    "        self.p = nn.Dropout(p)\n",
    "        # compute the poisitional encodings in log space\n",
    "        pe = torch.zeros(max_len,d_model)\n",
    "        position = torch.arange(0,max_len).unsqueeze(1).float()\n",
    "        div_term = torch.exp(torch.arange(0.,d_model,2)* -(math.log(1000.0)/d_model))\n",
    "#         breakpoint()\n",
    "        pe[:,0::2] = torch.sin(position * div_term).float()\n",
    "        pe[:,1::2] = torch.cos(position * div_term).float()\n",
    "        pe = pe[None]\n",
    "        self.register_buffer('pe',pe)\n",
    "    def forward(self,x):\n",
    "        x  = x + torch.tensor(self.pe[:,x.size(1)])\n",
    "        return self.p(x)\n",
    "        \n",
    "        "
   ]
  },
  {
   "cell_type": "code",
   "execution_count": 86,
   "metadata": {},
   "outputs": [
    {
     "name": "stderr",
     "output_type": "stream",
     "text": [
      "/home/shang/.conda/envs/pyfast/lib/python3.7/site-packages/ipykernel_launcher.py:15: UserWarning: To copy construct from a tensor, it is recommended to use sourceTensor.clone().detach() or sourceTensor.clone().detach().requires_grad_(True), rather than torch.tensor(sourceTensor).\n",
      "  from ipykernel import kernelapp as app\n"
     ]
    }
   ],
   "source": [
    "pe = PositionalEncoding(20,0)\n",
    "y = pe.forward(torch.zeros((1,100,20),requires_grad=True))"
   ]
  },
  {
   "cell_type": "code",
   "execution_count": 87,
   "metadata": {},
   "outputs": [
    {
     "data": {
      "text/plain": [
       "<matplotlib.legend.Legend at 0x7fb3378b3400>"
      ]
     },
     "execution_count": 87,
     "metadata": {},
     "output_type": "execute_result"
    },
    {
     "data": {
      "image/png": "[encoded data removed]",
      "text/plain": [
       "<Figure size 1080x360 with 1 Axes>"
      ]
     },
     "metadata": {
      "needs_background": "light"
     },
     "output_type": "display_data"
    }
   ],
   "source": [
    "plt.figure(figsize=(15,5))\n",
    "plt.plot(np.arange(100),y[0,:,4:8].data.numpy())\n",
    "plt.legend([\"dim %d\"%p for p in [4,5,6,7]])"
   ]
  },
  {
   "cell_type": "code",
   "execution_count": null,
   "metadata": {},
   "outputs": [],
   "source": []
  },
  {
   "cell_type": "code",
   "execution_count": null,
   "metadata": {},
   "outputs": [],
   "source": []
  },
  {
   "cell_type": "code",
   "execution_count": null,
   "metadata": {},
   "outputs": [],
   "source": []
  },
  {
   "cell_type": "code",
   "execution_count": null,
   "metadata": {},
   "outputs": [],
   "source": []
  },
  {
   "cell_type": "code",
   "execution_count": null,
   "metadata": {},
   "outputs": [],
   "source": []
  },
  {
   "cell_type": "code",
   "execution_count": 94,
   "metadata": {},
   "outputs": [
    {
     "name": "stdout",
     "output_type": "stream",
     "text": [
      "Converted attention_module.ipynb to nb_attention.py\r\n"
     ]
    }
   ],
   "source": [
    "! ../notebook2script.py ./attention_module.ipynb"
   ]
  },
  {
   "cell_type": "code",
   "execution_count": 95,
   "metadata": {},
   "outputs": [
    {
     "name": "stdout",
     "output_type": "stream",
     "text": [
      "\r\n",
      "#################################################\r\n",
      "### THIS FILE WAS AUTOGENERATED! DO NOT EDIT! ###\r\n",
      "#################################################\r\n",
      "# file to edit: dev_nb/attention_module.ipynb\r\n",
      "\r\n",
      "import os,sys,time,copy,math,numpy as np\r\n",
      "from IPython.core.debugger import set_trace\r\n",
      "import torch,torch.nn as nn,torch.nn.functional as F\r\n",
      "import matplotlib.pyplot as plt\r\n",
      "import seaborn as sns\r\n",
      "\r\n",
      "class EncoderDecoder(nn.Module):\r\n",
      "    '''\r\n",
      "    A standard encoder-decoder architecture...\r\n",
      "    '''\r\n",
      "    def __init__(self,encr,decr,src_emb,tgt_emb,gen):\r\n",
      "        super().__init__()\r\n",
      "        self.encr = encr;self.decr = decr; self.src_emb = src_emb\r\n",
      "        self.tgt_emb = tgt_emb; self.gen = gen\r\n",
      "\r\n",
      "    def forward(self,src,tgt,src_mask,tgt_mask):\r\n",
      "        return self.decode(self.encode(src,src_mask),src_mask,tgt,tgt_mask)\r\n",
      "\r\n",
      "    def encode(self,src,src_mask):\r\n",
      "        return self.encr(self.src_emb(src),src_mask)\r\n",
      "\r\n",
      "    def decode(self,tgt,tgt_mask):\r\n",
      "        return self.decr(self.tgt_emb(tgt),tgt_mask)\r\n",
      "\r\n",
      "\r\n",
      "class Generator(nn.Module):\r\n",
      "    \"\"\"\r\n",
      "    Defines standard linear+ softmax step\r\n",
      "    \"\"\"\r\n",
      "    def __init__(self,d_model,vocab):\r\n",
      "        super().__init__()\r\n",
      "        self.proj = nn.Linear(d_model,vocab)\r\n",
      "\r\n",
      "    def forward(self,x):\r\n",
      "        return F.log_softmax(self.proj(x),dim=-1)\r\n",
      "\r\n",
      "def clones(module,N):\r\n",
      "    ''' Produces N identical modules '''\r\n",
      "    return nn.ModuleList([copy.deepcopy(module) for _ in range(N)])\r\n",
      "\r\n",
      "class Encoder(nn.Module):\r\n",
      "    ''' Core encoder is a stack of N layers '''\r\n",
      "    def __init__(self,layer,N):\r\n",
      "        super().__init__()\r\n",
      "        self.layers = clones(layer,N)\r\n",
      "        self.norm  = LayerNorm(layer.size)\r\n",
      "\r\n",
      "    def forward(self,x,mask):\r\n",
      "        ''' Pass the input and mask through each layer in turn  '''\r\n",
      "        for layer in self.layers:\r\n",
      "            x = layer(x,mask)\r\n",
      "        return self.norm(x)\r\n",
      "\r\n",
      "\r\n",
      "class LayerNorm(nn.Module):\r\n",
      "    def __init__(self,features,eps=1e-6):\r\n",
      "        super().__init__()\r\n",
      "        self.a_2 = nn.Parameter(torch.ones(features))\r\n",
      "        self.b_2 = nn.Parameter(torch.zeros(features))\r\n",
      "        self.eps = eps\r\n",
      "\r\n",
      "    def forward(self,x):\r\n",
      "        mean = x.mean(-1,keepdim=True)\r\n",
      "        std = x.std(-1,keepdim=True)\r\n",
      "        return self.a_2*(x - mean)/(std + self.eps) + self.b_2\r\n",
      "\r\n",
      "class SubLayerConnection(nn.Module):\r\n",
      "    \"\"\" A sum of original + layer(input) followed by layer Norm\"\"\"\r\n",
      "    def __init__(self,size,p):\r\n",
      "        super().__init__()\r\n",
      "        self.norm = LayerNorm(size)\r\n",
      "        self.p = nn.Dropout(p)\r\n",
      "\r\n",
      "    def forward(self,x,sublayer):\r\n",
      "        \"\"\" Apply residual connection to sublayer of same size\"\"\"\r\n",
      "        return x + self.p(sublayer(self.norm(x)))\r\n",
      "\r\n",
      "class BasicEncoderLayer(nn.Module):\r\n",
      "    \"\"\" Basic encoder layer is made of self.attentiona and feed forward layer \"\"\"\r\n",
      "    def __init__(self,sz,slf_att,ff,p):\r\n",
      "        super().__init__()\r\n",
      "        self.slf_att = slf_att; self.sz = sz; self.ff = ff;\r\n",
      "        self.sublayer = clones(SubLayerConnection(size,dropout),2)\r\n",
      "\r\n",
      "    def forward(self,x):\r\n",
      "        x = self.sublayer[0](x,lambda x: self.slf_att(x,x,x,mask))\r\n",
      "        return self.sublayer[1](x,self.ff)\r\n",
      "\r\n",
      "class Decoder(nn.Module):\r\n",
      "    ''' Basic N layer Decoder '''\r\n",
      "    def __init__(self,layer,N):\r\n",
      "        super().__init__()\r\n",
      "        self.layers = clones(layer,N)\r\n",
      "        self.norm = LayerNorm(layer.size)\r\n",
      "\r\n",
      "    def forward(self,x,mem,src_msk,tgt_msk):\r\n",
      "        for layer in self.layers:\r\n",
      "            x = layer(x,mem,src_msk,tgt_msk)\r\n",
      "        return self.norm(x)\r\n",
      "\r\n",
      "class BasicDecoderLayer(nn.Module):\r\n",
      "    ''' Basic N layer Decoder '''\r\n",
      "    def __init__(self,sz,slf_att,src_att,ff,p):\r\n",
      "        super().__init__()\r\n",
      "        self.slf_att = slf_att; self.src_att = src_att; self.ff = ff;\r\n",
      "        self.sublayer  = clones(SubLayerConnection(sz,p), 3)\r\n",
      "\r\n",
      "    def forward(self,x,mem,src_msk,tgt_msk):\r\n",
      "        x = self.sublayer[0](x, lambda x: self.slf_att(x,x,x,tgt_msk))\r\n",
      "        x = self.sublayer[1](x , lambda x: self.src_att(x,x,x,src_msk))\r\n",
      "        return self.sublayer[2](x, lambda x:self.ff(x))\r\n",
      "\r\n",
      "def future_msk(sz):\r\n",
      "    \"\"\" Mask out future positions. \"\"\"\r\n",
      "    att_shp = (1,sz,sz)\r\n",
      "    future_msk = np.triu(np.ones(att_shp),k=1).astype('uint8')\r\n",
      "    return torch.from_numpy(future_msk) ==0\r\n",
      "\r\n",
      "def attention(q,k,v,msk=None,p=None):\r\n",
      "    \"\"\" Compute 'Scaled dot product attention' \"\"\"\r\n",
      "    d_k = q.size(-1)\r\n",
      "    scores = torch.matmul(q,k.transpose(-2,-1))/math.sqrt(d_k)\r\n",
      "    if msk is not None:\r\n",
      "        scores = scores.masked_fill(mask==0,-1e9)\r\n",
      "        p_att = F.softmax(scores,dim = -1)\r\n",
      "        if p is not None:\r\n",
      "            p_att = p(p_att)\r\n",
      "        return torch.matmul(p_att,v), p_att\r\n",
      "\r\n",
      "class MultiHeadAttention(nn.Module):\r\n",
      "    def __init__(self,h, d_model, p=0.1):\r\n",
      "        \" Take in model size and number of heads.\"\r\n",
      "        super().__init__()\r\n",
      "        assert d_model % h ==0\r\n",
      "        ## assumption d_v always equals d_k\r\n",
      "        self.d_k = d_model // h; self.h = h; self.att = None; self.p = nn.Dropout(p=p)\r\n",
      "        self.linears = clones(nn.Linear(d_model,d_model), 4)\r\n",
      "\r\n",
      "    def forward(self,q,k,v,msk=None):\r\n",
      "        'Implements figure 2'\r\n",
      "        if msk is not None:\r\n",
      "            # same mask for all heads? - Why\r\n",
      "            msk = msk[:,None,...]\r\n",
      "        nbtch = q.size(0)\r\n",
      "        # 1. Do all the linear projections in batch  from d_model => h x d_k\r\n",
      "        q,k,v = [l(x).view(nbtch,-1,self.h,self.d_k).transpose(1,2)\r\n",
      "                for l,x in zip(self.linears,(q,k,v))]\r\n",
      "        # 2. Apply attention to all the projected vectors in batch.\r\n",
      "        x,self.att = attention(q,k,v,mask=mask,p=self.p)\r\n",
      "        # 3.'Concat' using a view and apply a final linear.\r\n",
      "        x = x.transpose(1,2).contigous().view(nbtch,-1,self.h*self.d_k)\r\n",
      "        return self.linears[-1](x)\r\n",
      "\r\n",
      "class BasicFC(nn.Module):\r\n",
      "    ''' Base FC to apply at the end of each encoder-decoder block '''\r\n",
      "    def __init__(self,d_model,d_h,p=0.1):\r\n",
      "        super().__init__()\r\n",
      "        self.w_1 = nn.Linear(d_model,d_h)\r\n",
      "        self.w_2 = nn.Linear(d_h,d_model)\r\n",
      "        self.p = nn.Dropout(p)\r\n",
      "\r\n",
      "    def forward(self,x):\r\n",
      "        return self.w_2(self.p(F.relu(self.w_1(x))))\r\n",
      "\r\n",
      "\r\n",
      "class Embeddings(nn.Module):\r\n",
      "    def __init__(self,d_model,vocab):\r\n",
      "        super().__init__()\r\n",
      "        self.lidx = nn.Embedding(d_model,vocab)\r\n",
      "        self.d_model = d_model\r\n",
      "\r\n",
      "    def forward(self,x):\r\n",
      "        return self.lut(x)*math.sqrt(self.d_model)\r\n",
      "\r\n",
      "class PositionalEncoding(nn.Module):\r\n",
      "    def __init__(self,d_model,p,max_len=5000):\r\n",
      "        super().__init__()\r\n",
      "        self.p = nn.Dropout(p)\r\n",
      "        # compute the poisitional encodings in log space\r\n",
      "        pe = torch.zeros(max_len,d_model)\r\n",
      "        position = torch.arange(0,max_len).unsqueeze(1).float()\r\n",
      "        div_term = torch.exp(torch.arange(0.,d_model,2)* -(math.log(1000.0)/d_model))\r\n",
      "#         breakpoint()\r\n",
      "        pe[:,0::2] = torch.sin(position * div_term).float()\r\n",
      "        pe[:,1::2] = torch.cos(position * div_term).float()\r\n",
      "        pe = pe[None]\r\n",
      "        self.register_buffer('pe',pe)\r\n",
      "    def forward(self,x):\r\n",
      "        x  = x + torch.tensor(self.pe[:,x.size(1)])\r\n",
      "        return self.p(x)\r\n",
      "\r\n"
     ]
    }
   ],
   "source": [
    "!cat ./exp/nb_attention.py"
   ]
  },
  {
   "cell_type": "code",
   "execution_count": null,
   "metadata": {},
   "outputs": [],
   "source": []
  }
 ],
 "metadata": {
  "kernelspec": {
   "display_name": "Python [conda env:pyfast]",
   "language": "python",
   "name": "conda-env-pyfast-py"
  },
  "language_info": {
   "codemirror_mode": {
    "name": "ipython",
    "version": 3
   },
   "file_extension": ".py",
   "mimetype": "text/x-python",
   "name": "python",
   "nbconvert_exporter": "python",
   "pygments_lexer": "ipython3",
   "version": "3.7.1"
  }
 },
 "nbformat": 4,
 "nbformat_minor": 2
}
